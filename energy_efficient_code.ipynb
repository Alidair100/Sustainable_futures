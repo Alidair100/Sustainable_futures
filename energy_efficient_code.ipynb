{
 "cells": [
  {
   "cell_type": "code",
   "execution_count": 11,
   "id": "ca2759d1",
   "metadata": {},
   "outputs": [],
   "source": [
    "## Import the builtin time module\n",
    "import time\n",
    "import pandas as pd\n",
    "import os\n",
    "from psutil import cpu_percent"
   ]
  },
  {
   "cell_type": "code",
   "execution_count": 5,
   "id": "6b8998b1",
   "metadata": {},
   "outputs": [
    {
     "data": {
      "text/html": [
       "<div>\n",
       "<style scoped>\n",
       "    .dataframe tbody tr th:only-of-type {\n",
       "        vertical-align: middle;\n",
       "    }\n",
       "\n",
       "    .dataframe tbody tr th {\n",
       "        vertical-align: top;\n",
       "    }\n",
       "\n",
       "    .dataframe thead th {\n",
       "        text-align: right;\n",
       "    }\n",
       "</style>\n",
       "<table border=\"1\" class=\"dataframe\">\n",
       "  <thead>\n",
       "    <tr style=\"text-align: right;\">\n",
       "      <th></th>\n",
       "      <th>Company</th>\n",
       "      <th>Value</th>\n",
       "    </tr>\n",
       "  </thead>\n",
       "  <tbody>\n",
       "    <tr>\n",
       "      <th>0</th>\n",
       "      <td>Apple</td>\n",
       "      <td>2.660000e+12</td>\n",
       "    </tr>\n",
       "    <tr>\n",
       "      <th>1</th>\n",
       "      <td>Amazon</td>\n",
       "      <td>2.170000e+12</td>\n",
       "    </tr>\n",
       "    <tr>\n",
       "      <th>2</th>\n",
       "      <td>Microsoft</td>\n",
       "      <td>1.480000e+12</td>\n",
       "    </tr>\n",
       "    <tr>\n",
       "      <th>3</th>\n",
       "      <td>Google</td>\n",
       "      <td>1.750000e+12</td>\n",
       "    </tr>\n",
       "    <tr>\n",
       "      <th>4</th>\n",
       "      <td>Tesla</td>\n",
       "      <td>8.660000e+09</td>\n",
       "    </tr>\n",
       "    <tr>\n",
       "      <th>5</th>\n",
       "      <td>Netflix</td>\n",
       "      <td>1.610000e+09</td>\n",
       "    </tr>\n",
       "  </tbody>\n",
       "</table>\n",
       "</div>"
      ],
      "text/plain": [
       "     Company         Value\n",
       "0      Apple  2.660000e+12\n",
       "1     Amazon  2.170000e+12\n",
       "2  Microsoft  1.480000e+12\n",
       "3     Google  1.750000e+12\n",
       "4      Tesla  8.660000e+09\n",
       "5    Netflix  1.610000e+09"
      ]
     },
     "execution_count": 5,
     "metadata": {},
     "output_type": "execute_result"
    }
   ],
   "source": [
    "## Make some data to work with\n",
    "df = pd.DataFrame({'Company': ['Apple', 'Amazon', 'Microsoft', 'Google','Tesla','Netflix'], \n",
    "      'Value': [2.66E+12,2.17E+12,1.48E+12,1.75E+12,8.66E+09,1.61E+09]})\n",
    "df"
   ]
  },
  {
   "cell_type": "code",
   "execution_count": 7,
   "id": "3bc48c9e",
   "metadata": {},
   "outputs": [],
   "source": [
    "## Define out functions\n",
    "\n",
    "# Function 1: using a loop and .append()\n",
    "def function1():\n",
    "    df = pd.read_excel('test.xlsx')\n",
    "    trillion_companies = []\n",
    "    for i in range(0,len(df)):\n",
    "        if df['Company Value'][i] > 1e12: \n",
    "            trillion_companies.append(df['Company'][i])\n",
    "        else:\n",
    "            pass\n",
    "    print('Companie worth over one trillion $:',trillion_companies)\n",
    "    \n",
    "# Function 2: loop integrated into statement\n",
    "def function2():\n",
    "    df = pd.read_excel('test.xlsx')\n",
    "    trillion_companies = [df['Company'][i] for i in range(0,len(df)) if df['Company Value'][i] > 1e12]\n",
    "    print('Companie worth over one trillion $:',trillion_companies)\n"
   ]
  },
  {
   "cell_type": "code",
   "execution_count": 15,
   "id": "8c6a6351",
   "metadata": {},
   "outputs": [
    {
     "name": "stdout",
     "output_type": "stream",
     "text": [
      "Companie worth over one trillion $: ['Apple', 'Microsoft', 'Amazon', 'Google']\n",
      "Time to run code = 0.012082815170288086\n",
      "CPU usage = 14.3\n"
     ]
    }
   ],
   "source": [
    "## Time the functions and see their CPU useage\n",
    "\n",
    "# Grab time Before Running the Code\n",
    "start = time.time()\n",
    "\n",
    "# Run our code\n",
    "function2()\n",
    "\n",
    "# Grab time after running the code\n",
    "end = time.time()\n",
    "\n",
    "# Get total run time\n",
    "total_time = end - start\n",
    "\n",
    "# Print total run time\n",
    "print(\"Time to run code = \"+ str(total_time))\n",
    "\n",
    "# Print CPU usage\n",
    "print('CPU usage =',cpu_percent())\n"
   ]
  }
 ],
 "metadata": {
  "kernelspec": {
   "display_name": "Python 3 (ipykernel)",
   "language": "python",
   "name": "python3"
  },
  "language_info": {
   "codemirror_mode": {
    "name": "ipython",
    "version": 3
   },
   "file_extension": ".py",
   "mimetype": "text/x-python",
   "name": "python",
   "nbconvert_exporter": "python",
   "pygments_lexer": "ipython3",
   "version": "3.8.8"
  }
 },
 "nbformat": 4,
 "nbformat_minor": 5
}
